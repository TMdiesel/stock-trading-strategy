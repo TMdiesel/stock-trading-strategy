{
 "cells": [
  {
   "cell_type": "code",
   "execution_count": 1,
   "metadata": {},
   "outputs": [],
   "source": [
    "# default package\n",
    "import logging\n",
    "import sys \n",
    "import os\n",
    "import pathlib\n",
    "import IPython\n",
    "import random\n",
    "from urllib.request import urlretrieve\n",
    "import datetime\n",
    "import pickle"
   ]
  },
  {
   "cell_type": "code",
   "execution_count": 2,
   "metadata": {},
   "outputs": [],
   "source": [
    "# third party package\n",
    "import pandas as pd \n",
    "import numpy as np\n",
    "import matplotlib.pyplot as plt\n",
    "import seaborn\n",
    "from tqdm import tqdm\n",
    "import seaborn as sns"
   ]
  },
  {
   "cell_type": "code",
   "execution_count": 3,
   "metadata": {},
   "outputs": [],
   "source": [
    "# my package\n",
    "sys.path.append(os.path.join(pathlib.Path().resolve(),\"../\"))\n",
    "import src.strategy.golden_core30 as golden_core30"
   ]
  },
  {
   "cell_type": "code",
   "execution_count": 4,
   "metadata": {},
   "outputs": [],
   "source": [
    "# reload settings\n",
    "%load_ext autoreload\n",
    "%autoreload 2"
   ]
  },
  {
   "cell_type": "code",
   "execution_count": 5,
   "metadata": {},
   "outputs": [],
   "source": [
    "# logger\n",
    "logger=logging.getLogger(__name__)\n",
    "logging.basicConfig(level=logging.INFO)"
   ]
  },
  {
   "cell_type": "code",
   "execution_count": 6,
   "metadata": {},
   "outputs": [],
   "source": [
    "# graph setting\n",
    "sns.set()"
   ]
  },
  {
   "cell_type": "code",
   "execution_count": 7,
   "metadata": {},
   "outputs": [],
   "source": [
    "# global parameter\n",
    "db_path='../data/mstock.db'\n",
    "start_date=datetime.date(2019,1,1)\n",
    "end_date=datetime.date(2020,1,1)\n",
    "deposit=1000000\n",
    "order_under_limit=10000"
   ]
  },
  {
   "cell_type": "code",
   "execution_count": 8,
   "metadata": {},
   "outputs": [],
   "source": [
    "with open('../data/codelist_core26.pkl','rb') as f:\n",
    "    code_list=pickle.load(f)"
   ]
  },
  {
   "cell_type": "markdown",
   "metadata": {},
   "source": [
    "## trade"
   ]
  },
  {
   "cell_type": "code",
   "execution_count": 9,
   "metadata": {
    "tags": []
   },
   "outputs": [
    {
     "name": "stderr",
     "output_type": "stream",
     "text": [
      "INFO:tradelog.src.backtest.simulator:BUY, ('2019-02-19', 6501, 100, 3496.0, 1000000, 650125)\n",
      "INFO:tradelog.src.backtest.simulator:BUY, ('2019-02-19', 8316, 100, 4020.0, 650125, 247850)\n",
      "INFO:tradelog.src.backtest.simulator:BUY, ('2019-02-20', 4568, 100, 1280.6666666666665, 247850, 119669)\n",
      "INFO:tradelog.src.backtest.simulator:SELL, ('2019-03-01', 6501, 100, 3375.0, 119669, 456894)\n",
      "INFO:tradelog.src.backtest.simulator:SELL, ('2019-03-01', 8316, 100, 3961.0, 456894, 852719)\n",
      "INFO:tradelog.src.backtest.simulator:BUY, ('2019-03-05', 8411, 100, 1750.0, 852719, 677604)\n",
      "INFO:tradelog.src.backtest.simulator:SELL, ('2019-03-11', 8411, 100, 1695.0, 677604, 846989)\n",
      "INFO:tradelog.src.backtest.simulator:BUY, ('2019-03-19', 6098, 100, 3145.0, 846989, 532214)\n",
      "INFO:tradelog.src.backtest.simulator:BUY, ('2019-03-19', 6501, 100, 3500.0, 532214, 181939)\n",
      "INFO:tradelog.src.backtest.simulator:BUY, ('2019-03-22', 8031, 100, 1805.0, 181939, 1324)\n",
      "INFO:tradelog.src.backtest.simulator:SELL, ('2019-04-01', 8031, 100, 1739.0, 1324, 175109)\n",
      "INFO:tradelog.src.backtest.simulator:BUY, ('2019-04-05', 8411, 100, 1744.0, 175109, 594)\n",
      "INFO:tradelog.src.backtest.simulator:SELL, ('2019-04-08', 6098, 100, 3070.0, 594, 307319)\n",
      "INFO:tradelog.src.backtest.simulator:BUY, ('2019-04-08', 8031, 100, 1789.0, 307319, 128304)\n",
      "INFO:tradelog.src.backtest.simulator:BUY, ('2019-04-09', 8306, 100, 565.1, 128304, 71695)\n",
      "INFO:tradelog.src.backtest.simulator:SELL, ('2019-04-12', 8306, 100, 557.9, 71695, 127386)\n",
      "INFO:tradelog.src.backtest.simulator:SELL, ('2019-04-15', 8031, 100, 1778.5, 127386, 305121)\n",
      "INFO:tradelog.src.backtest.simulator:SELL, ('2019-04-15', 8411, 100, 1738.0, 305121, 478806)\n",
      "INFO:tradelog.src.backtest.simulator:BUY, ('2019-04-16', 8031, 100, 1778.5, 478806, 300841)\n",
      "INFO:tradelog.src.backtest.simulator:BUY, ('2019-04-19', 8306, 100, 568.3, 300841, 243913)\n",
      "INFO:tradelog.src.backtest.simulator:BUY, ('2019-04-19', 8411, 100, 1758.0, 243913, 67998)\n",
      "INFO:tradelog.src.backtest.simulator:SELL, ('2019-04-25', 6501, 100, 3623.0, 67998, 430023)\n",
      "INFO:tradelog.src.backtest.simulator:SELL, ('2019-04-25', 8306, 100, 550.4, 430023, 484964)\n",
      "INFO:tradelog.src.backtest.simulator:SELL, ('2019-05-08', 8411, 100, 1710.0, 484964, 655849)\n",
      "INFO:tradelog.src.backtest.simulator:BUY, ('2019-05-08', 6501, 100, 3757.0, 655849, 279874)\n",
      "INFO:tradelog.src.backtest.simulator:SELL, ('2019-05-09', 8031, 100, 1654.0, 279874, 445159)\n",
      "INFO:tradelog.src.backtest.simulator:BUY, ('2019-05-16', 8802, 100, 2000.0, 445159, 245044)\n",
      "INFO:tradelog.src.backtest.simulator:SELL, ('2019-05-24', 6501, 100, 3551.0, 245044, 599869)\n",
      "INFO:tradelog.src.backtest.simulator:BUY, ('2019-05-27', 3382, 100, 3800.0, 599869, 219594)\n",
      "INFO:tradelog.src.backtest.simulator:BUY, ('2019-05-27', 4503, 100, 1516.5, 219594, 67829)\n",
      "INFO:tradelog.src.backtest.simulator:SELL, ('2019-06-03', 4568, 100, 1764.6666666666665, 67829, 244180)\n",
      "INFO:tradelog.src.backtest.simulator:SELL, ('2019-06-04', 3382, 100, 3628.0, 244180, 606705)\n",
      "INFO:tradelog.src.backtest.simulator:SELL, ('2019-06-06', 4503, 100, 1505.5, 606705, 757140)\n",
      "INFO:tradelog.src.backtest.simulator:BUY, ('2019-06-06', 8031, 100, 1728.0, 757140, 584225)\n",
      "INFO:tradelog.src.backtest.simulator:BUY, ('2019-06-07', 4503, 100, 1492.5, 584225, 434860)\n",
      "INFO:tradelog.src.backtest.simulator:BUY, ('2019-06-07', 4568, 100, 1996.3333333333333, 434860, 235112)\n",
      "INFO:tradelog.src.backtest.simulator:BUY, ('2019-06-13', 8306, 100, 507.9, 235112, 184223)\n",
      "INFO:tradelog.src.backtest.simulator:SELL, ('2019-06-17', 4503, 100, 1465.0, 184223, 330608)\n",
      "INFO:tradelog.src.backtest.simulator:SELL, ('2019-06-19', 8802, 100, 2069.0, 330608, 537233)\n",
      "INFO:tradelog.src.backtest.simulator:SELL, ('2019-06-20', 8306, 100, 505.0, 537233, 587634)\n",
      "INFO:tradelog.src.backtest.simulator:BUY, ('2019-06-20', 6981, 100, 4796.0, 587634, 107759)\n",
      "INFO:tradelog.src.backtest.simulator:SELL, ('2019-06-28', 4568, 100, 1892.3333333333333, 107759, 296877)\n",
      "INFO:tradelog.src.backtest.simulator:BUY, ('2019-07-01', 4503, 100, 1553.5, 296877, 141412)\n",
      "INFO:tradelog.src.backtest.simulator:BUY, ('2019-07-01', 8306, 100, 522.0, 141412, 89113)\n",
      "INFO:tradelog.src.backtest.simulator:SELL, ('2019-07-18', 6981, 100, 4588.0, 89113, 547638)\n",
      "INFO:tradelog.src.backtest.simulator:SELL, ('2019-07-25', 8031, 100, 1785.0, 547638, 726023)\n",
      "INFO:tradelog.src.backtest.simulator:BUY, ('2019-07-25', 6098, 100, 3694.0, 726023, 356348)\n",
      "INFO:tradelog.src.backtest.simulator:BUY, ('2019-07-26', 7267, 100, 2793.0, 356348, 76773)\n",
      "INFO:tradelog.src.backtest.simulator:SELL, ('2019-07-29', 4503, 100, 1527.0, 76773, 229358)\n",
      "INFO:tradelog.src.backtest.simulator:SELL, ('2019-07-31', 7267, 100, 2731.5, 229358, 502233)\n",
      "INFO:tradelog.src.backtest.simulator:SELL, ('2019-08-07', 8306, 100, 514.0, 502233, 553534)\n",
      "INFO:tradelog.src.backtest.simulator:BUY, ('2019-08-07', 4502, 100, 3757.0, 553534, 177559)\n",
      "INFO:tradelog.src.backtest.simulator:SELL, ('2019-08-09', 4502, 100, 3700.0, 177559, 547284)\n",
      "INFO:tradelog.src.backtest.simulator:SELL, ('2019-08-13', 6098, 100, 3600.0, 547284, 907009)\n",
      "INFO:tradelog.src.backtest.simulator:BUY, ('2019-08-21', 3382, 100, 3727.0, 907009, 534034)\n",
      "INFO:tradelog.src.backtest.simulator:BUY, ('2019-08-22', 8802, 100, 2022.5, 534034, 331509)\n",
      "INFO:tradelog.src.backtest.simulator:SELL, ('2019-08-27', 3382, 100, 3680.0, 331509, 699234)\n",
      "INFO:tradelog.src.backtest.simulator:BUY, ('2019-09-02', 3382, 100, 3766.0, 699234, 322359)\n",
      "INFO:tradelog.src.backtest.simulator:BUY, ('2019-09-03', 4503, 100, 1518.0, 322359, 170444)\n",
      "INFO:tradelog.src.backtest.simulator:BUY, ('2019-09-05', 8031, 100, 1681.5, 170444, 2179)\n",
      "INFO:tradelog.src.backtest.simulator:SELL, ('2019-10-04', 4503, 100, 1475.5, 2179, 149614)\n",
      "INFO:tradelog.src.backtest.simulator:SELL, ('2019-10-04', 8031, 100, 1724.0, 149614, 321899)\n",
      "INFO:tradelog.src.backtest.simulator:SELL, ('2019-10-10', 8802, 100, 2068.0, 321899, 528424)\n",
      "INFO:tradelog.src.backtest.simulator:BUY, ('2019-10-11', 8802, 100, 2071.0, 528424, 321049)\n",
      "INFO:tradelog.src.backtest.simulator:SELL, ('2019-10-15', 8802, 100, 2098.0, 321049, 530574)\n",
      "INFO:tradelog.src.backtest.simulator:BUY, ('2019-10-15', 4503, 100, 1608.0, 530574, 369659)\n",
      "INFO:tradelog.src.backtest.simulator:BUY, ('2019-10-16', 8802, 100, 2131.5, 369659, 156234)\n",
      "INFO:tradelog.src.backtest.simulator:BUY, ('2019-10-24', 8306, 100, 562.5, 156234, 99885)\n",
      "INFO:tradelog.src.backtest.simulator:SELL, ('2019-10-30', 8802, 100, 2080.0, 99885, 307610)\n",
      "INFO:tradelog.src.backtest.simulator:SELL, ('2019-11-05', 3382, 100, 4053.0, 307610, 712635)\n",
      "INFO:tradelog.src.backtest.simulator:BUY, ('2019-11-05', 8766, 100, 5988.0, 712635, 113300)\n",
      "INFO:tradelog.src.backtest.simulator:SELL, ('2019-11-27', 8306, 100, 577.0, 113300, 170901)\n",
      "INFO:tradelog.src.backtest.simulator:BUY, ('2019-12-03', 8306, 100, 576.4, 170901, 113162)\n",
      "INFO:tradelog.src.backtest.simulator:SELL, ('2019-12-27', 4503, 100, 1874.5, 113162, 300497)\n",
      "INFO:tradelog.src.backtest.simulator:SELL, ('2020-01-01', 8766, 100, 6140.0, 300497, 913962)\n",
      "INFO:tradelog.src.backtest.simulator:SELL, ('2020-01-01', 8306, 100, 595.0, 913962, 973363)\n"
     ]
    }
   ],
   "source": [
    "portfolio,result=golden_core30.simulate_golden_dead_cross(\n",
    "    db_path,start_date,end_date,code_list,deposit,order_under_limit\n",
    ")"
   ]
  },
  {
   "cell_type": "code",
   "execution_count": 10,
   "metadata": {},
   "outputs": [
    {
     "data": {
      "text/plain": [
       "defaultdict(src.backtest.simulator.OwnedStock, {})"
      ]
     },
     "execution_count": 10,
     "metadata": {},
     "output_type": "execute_result"
    }
   ],
   "source": [
    "portfolio.stocks"
   ]
  },
  {
   "cell_type": "code",
   "execution_count": 11,
   "metadata": {},
   "outputs": [
    {
     "data": {
      "text/plain": [
       "<AxesSubplot:>"
      ]
     },
     "execution_count": 11,
     "metadata": {},
     "output_type": "execute_result"
    },
    {
     "data": {
      "image/png": "[encoded data removed]",
      "text/plain": [
       "<Figure size 432x288 with 1 Axes>"
      ]
     },
     "metadata": {},
     "output_type": "display_data"
    }
   ],
   "source": [
    "result.plot()"
   ]
  },
  {
   "cell_type": "code",
   "execution_count": 12,
   "metadata": {},
   "outputs": [
    {
     "data": {
      "text/plain": [
       "<AxesSubplot:>"
      ]
     },
     "execution_count": 12,
     "metadata": {},
     "output_type": "execute_result"
    },
    {
     "data": {
      "image/png": "[encoded data removed]",
      "text/plain": [
       "<Figure size 432x288 with 1 Axes>"
      ]
     },
     "metadata": {},
     "output_type": "display_data"
    }
   ],
   "source": [
    "result['profit'].plot()"
   ]
  },
  {
   "cell_type": "code",
   "execution_count": null,
   "metadata": {},
   "outputs": [],
   "source": []
  }
 ],
 "metadata": {
  "kernelspec": {
   "display_name": "Python 3",
   "language": "python",
   "name": "python3"
  },
  "language_info": {
   "codemirror_mode": {
    "name": "ipython",
    "version": 3
   },
   "file_extension": ".py",
   "mimetype": "text/x-python",
   "name": "python",
   "nbconvert_exporter": "python",
   "pygments_lexer": "ipython3",
   "version": "3.8.7"
  }
 },
 "nbformat": 4,
 "nbformat_minor": 4
}
